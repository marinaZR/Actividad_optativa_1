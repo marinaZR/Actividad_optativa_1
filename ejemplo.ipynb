{
 "cells": [
  {
   "cell_type": "markdown",
   "metadata": {},
   "source": [
    "# Mi primer Notebook!"
   ]
  },
  {
   "cell_type": "markdown",
   "metadata": {},
   "source": [
    "2do C. Zaragoza Rodríguez Marina"
   ]
  },
  {
   "cell_type": "code",
   "execution_count": 1,
   "metadata": {},
   "outputs": [
    {
     "name": "stdout",
     "output_type": "stream",
     "text": [
      "Hola Mundo\n"
     ]
    }
   ],
   "source": [
    "print(\"Hola Mundo\")"
   ]
  },
  {
   "cell_type": "markdown",
   "metadata": {},
   "source": [
    "## Mis primeros descriptivos con Pandas"
   ]
  },
  {
   "cell_type": "markdown",
   "metadata": {},
   "source": [
    "Importa la biblioteca pandas y la asigna al alias pd para análisis de datos."
   ]
  },
  {
   "cell_type": "code",
   "execution_count": null,
   "metadata": {},
   "outputs": [],
   "source": [
    "# Importa la biblioteca pandas y la asigna al alias 'pd' para facilitar su uso.\n",
    "import pandas as pd"
   ]
  },
  {
   "cell_type": "markdown",
   "metadata": {},
   "source": [
    "Crea un DataFrame de pandas llamado df con datos de edad y peso."
   ]
  },
  {
   "cell_type": "code",
   "execution_count": null,
   "metadata": {},
   "outputs": [],
   "source": [
    "# Define un diccionario llamado 'datos' con dos claves: 'edad' y 'peso', cada una con una lista de valores.\n",
    "datos = {\n",
    "    'edad': [8, 9, 10, 11, 12],\n",
    "    'peso': [30, 32, 35, 37, 40]\n",
    "}\n",
    "# Crea un DataFrame de pandas llamado 'df' a partir del diccionario 'datos'.\n",
    "df = pd.DataFrame(datos)"
   ]
  },
  {
   "cell_type": "markdown",
   "metadata": {},
   "source": [
    "Calcula y muestra la media y desviación típica de las columnas edad y peso del DataFrame df."
   ]
  },
  {
   "cell_type": "code",
   "execution_count": null,
   "metadata": {},
   "outputs": [
    {
     "name": "stdout",
     "output_type": "stream",
     "text": [
      "Media de Edad 10.0\n",
      "Desviación Típica de Edad 1.5811388300841898\n",
      "Media de Peso 34.8\n",
      "Desviación Típica de Peso 3.9623225512317903\n"
     ]
    }
   ],
   "source": [
    "# Calcula la media de la columna 'edad' del DataFrame 'df' y la almacena en 'media_edad'.\n",
    "media_edad = df['edad'].mean()\n",
    "# Calcula la desviación típica de la columna 'edad' del DataFrame 'df' y la almacena en 'desviacion_tipica_edad'.\n",
    "desviacion_tipica_edad = df['edad'].std()\n",
    "\n",
    "# Calcula la media de la columna 'peso' del DataFrame 'df' y la almacena en 'media_peso'.\n",
    "media_peso = df['peso'].mean()\n",
    "# Calcula la desviación típica de la columna 'peso' del DataFrame 'df' y la almacena en 'desviacion_tipica_peso'.\n",
    "desviacion_tipica_peso = df['peso'].std()\n",
    "\n",
    "# Imprime la media de la edad calculada.\n",
    "print(\"Media de Edad\", media_edad)\n",
    "# Imprime la desviación típica de la edad calculada.\n",
    "print(\"Desviación Típica de Edad\", desviacion_tipica_edad)\n",
    "# Imprime la media del peso calculada.\n",
    "print(\"Media de Peso\", media_peso)\n",
    "# Imprime la desviación típica del peso calculada.\n",
    "print(\"Desviación Típica de Peso\", desviacion_tipica_peso)"
   ]
  }
 ],
 "metadata": {
  "kernelspec": {
   "display_name": "Python 3",
   "language": "python",
   "name": "python3"
  },
  "language_info": {
   "codemirror_mode": {
    "name": "ipython",
    "version": 3
   },
   "file_extension": ".py",
   "mimetype": "text/x-python",
   "name": "python",
   "nbconvert_exporter": "python",
   "pygments_lexer": "ipython3",
   "version": "3.11.9"
  }
 },
 "nbformat": 4,
 "nbformat_minor": 2
}
